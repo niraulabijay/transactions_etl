{
 "cells": [
  {
   "cell_type": "markdown",
   "id": "7f42f59d-1399-4a38-b23d-4d8cf8ecf60c",
   "metadata": {},
   "source": [
    "#### Create ProductCategory Dimension"
   ]
  },
  {
   "cell_type": "code",
   "execution_count": 1,
   "id": "478c4160-5cc8-473d-8610-1082b846357f",
   "metadata": {},
   "outputs": [],
   "source": [
    "from pyspark.sql import SparkSession\n",
    "from pyspark.sql.functions import (col, monotonically_increasing_id)"
   ]
  },
  {
   "cell_type": "code",
   "execution_count": 2,
   "id": "88d1939d-6343-4d6b-a9a1-86724e38bb02",
   "metadata": {},
   "outputs": [],
   "source": [
    "spark = SparkSession.builder.appName(\"fact_mapping\").getOrCreate()"
   ]
  },
  {
   "cell_type": "code",
   "execution_count": 3,
   "id": "081d82e2-8aed-48b3-be97-4c14b4a61895",
   "metadata": {},
   "outputs": [
    {
     "name": "stdout",
     "output_type": "stream",
     "text": [
      "+------------+--------------+-------+\n",
      "|CustomerType|CustomerTypeID|Segment|\n",
      "+------------+--------------+-------+\n",
      "|      Retail|             1|    B2C|\n",
      "|   Wholesale|             2|    B2B|\n",
      "+------------+--------------+-------+\n",
      "\n"
     ]
    }
   ],
   "source": [
    "df_customer_type = spark.read.option(\"header\",True).option(\"inferSchema\",True).csv(\"source/Dim_CustomerType.csv\")\n",
    "df_customer_type.show()"
   ]
  },
  {
   "cell_type": "code",
   "execution_count": 4,
   "id": "be507795-2b37-498a-94d2-7568e286648f",
   "metadata": {},
   "outputs": [],
   "source": [
    "df_customer_type2 = df_customer_type.withColumn(\"CustomerTypeKey\", monotonically_increasing_id()).drop(\"CustomerTypeID\")"
   ]
  },
  {
   "cell_type": "code",
   "execution_count": 5,
   "id": "5db77f18-f3bb-46c0-8a1a-d96359840f83",
   "metadata": {},
   "outputs": [],
   "source": [
    "df_customer_type_na = spark.createDataFrame([\n",
    "    (\"N/A\",\"N/A\",-1)\n",
    "],[\"CustomerType\",\"Segment\",\"CustomerTypeKey\"])"
   ]
  },
  {
   "cell_type": "code",
   "execution_count": 6,
   "id": "72c5a2eb-f863-4d0c-952a-ca1f497197b8",
   "metadata": {},
   "outputs": [],
   "source": [
    "dim_customer_type = df_customer_type2.unionAll(df_customer_type_na)"
   ]
  },
  {
   "cell_type": "code",
   "execution_count": 7,
   "id": "cc9cdabf-5085-4849-875c-97e78b8d3bd2",
   "metadata": {},
   "outputs": [],
   "source": [
    "dim_customer_type.write.mode(\"overwrite\").parquet(\"warehouse/dim_customer_type\")"
   ]
  },
  {
   "cell_type": "code",
   "execution_count": 8,
   "id": "52632347-62b9-4b37-95e3-0d8351605433",
   "metadata": {},
   "outputs": [],
   "source": [
    "df_dim_customer_type = spark.read.parquet(\"warehouse/dim_customer_type\")"
   ]
  },
  {
   "cell_type": "code",
   "execution_count": 9,
   "id": "f848a44b-5997-4a37-8017-e37154130f62",
   "metadata": {},
   "outputs": [
    {
     "name": "stdout",
     "output_type": "stream",
     "text": [
      "+------------+-------+---------------+\n",
      "|CustomerType|Segment|CustomerTypeKey|\n",
      "+------------+-------+---------------+\n",
      "|      Retail|    B2C|              0|\n",
      "|   Wholesale|    B2B|              1|\n",
      "|         N/A|    N/A|             -1|\n",
      "+------------+-------+---------------+\n",
      "\n"
     ]
    }
   ],
   "source": [
    "df_dim_customer_type.show()"
   ]
  },
  {
   "cell_type": "markdown",
   "id": "94954b2b-c2fa-47d7-9b9e-147e2bcf1605",
   "metadata": {},
   "source": [
    "#### Additionally write final result to csv."
   ]
  },
  {
   "cell_type": "code",
   "execution_count": 11,
   "id": "b6a9d450-c2fe-4ff8-9e58-5c776d1bdda1",
   "metadata": {},
   "outputs": [],
   "source": [
    "df_dim_customer_type.toPandas().to_csv(\"output_csv/dim_customer_type.csv\", index=False)"
   ]
  },
  {
   "cell_type": "code",
   "execution_count": null,
   "id": "1a4caef4-a8d3-4941-bb62-124befbca628",
   "metadata": {},
   "outputs": [],
   "source": []
  }
 ],
 "metadata": {
  "kernelspec": {
   "display_name": "Python 3 (ipykernel)",
   "language": "python",
   "name": "python3"
  },
  "language_info": {
   "codemirror_mode": {
    "name": "ipython",
    "version": 3
   },
   "file_extension": ".py",
   "mimetype": "text/x-python",
   "name": "python",
   "nbconvert_exporter": "python",
   "pygments_lexer": "ipython3",
   "version": "3.11.6"
  }
 },
 "nbformat": 4,
 "nbformat_minor": 5
}
