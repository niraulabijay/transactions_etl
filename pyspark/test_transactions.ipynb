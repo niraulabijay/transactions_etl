{
 "cells": [
  {
   "cell_type": "code",
   "execution_count": 1,
   "id": "58218084-1fd6-4d34-ae6e-e4b6655d57cb",
   "metadata": {},
   "outputs": [],
   "source": [
    "from pyspark.sql import SparkSession\n",
    "from pyspark.sql.functions import (col, sum as sparkSum)"
   ]
  },
  {
   "cell_type": "code",
   "execution_count": 2,
   "id": "82cfcedf-47ab-4fc4-ab78-e3d403b358b2",
   "metadata": {},
   "outputs": [],
   "source": [
    "spark = SparkSession.builder.appName(\"fact_mapping\").getOrCreate()"
   ]
  },
  {
   "cell_type": "code",
   "execution_count": 3,
   "id": "e9b8916d-71f2-425b-9155-550454a26bc9",
   "metadata": {},
   "outputs": [],
   "source": [
    "df_fact_original = spark.read.option(\"header\",True).option(\"inferSchema\",True).csv(\"source/Fact_Transactions.csv\")"
   ]
  },
  {
   "cell_type": "code",
   "execution_count": 4,
   "id": "1ceba9bf-ff21-4493-af05-f4813b1c515c",
   "metadata": {},
   "outputs": [],
   "source": [
    "df_fact_transformed = spark.read.parquet(\"spark-warehouse/fact_transactions\")"
   ]
  },
  {
   "cell_type": "markdown",
   "id": "7cfe6b96-ca44-4d27-bcc4-8763435b0700",
   "metadata": {},
   "source": [
    "#### Testing for total amount integrity"
   ]
  },
  {
   "cell_type": "code",
   "execution_count": 5,
   "id": "8c38202e-4779-492c-82a0-3e856381c283",
   "metadata": {},
   "outputs": [],
   "source": [
    "original_sum = df_fact_original.agg(sparkSum(\"Amount\")).collect()[0][0]\n",
    "new_sum = df_fact_transformed.agg(sparkSum(\"Amount\")).collect()[0][0]"
   ]
  },
  {
   "cell_type": "code",
   "execution_count": 6,
   "id": "e3f6ba73-726f-45c0-909a-ab893322fddc",
   "metadata": {},
   "outputs": [
    {
     "name": "stdout",
     "output_type": "stream",
     "text": [
      "Amount Integrity Maintained\n"
     ]
    }
   ],
   "source": [
    "if original_sum != new_sum:\n",
    "    print(\"Sum of Amount should remain unchanged after adding MappingID\")\n",
    "    print(original_sum)\n",
    "    print(new_sum)\n",
    "else:\n",
    "    print(\"Amount Integrity Maintained\")"
   ]
  },
  {
   "cell_type": "markdown",
   "id": "b0b9fff2-058d-4f57-aec8-7c800ef5b2dd",
   "metadata": {},
   "source": [
    "#### Testing if all the fact columns match or not"
   ]
  },
  {
   "cell_type": "code",
   "execution_count": 10,
   "id": "f63a5c9b-8126-4a4d-8727-2b8981e416bd",
   "metadata": {},
   "outputs": [],
   "source": [
    "original_facts = df_fact_original.select([col(\"Amount\"),col(\"TransactionID\")]).orderBy(col(\"TransactionID\"))\n",
    "transformed_facts = df_fact_transformed.select([col(\"Amount\"),col(\"TransactionID\")]).orderBy(col(\"TransactionID\"))"
   ]
  },
  {
   "cell_type": "code",
   "execution_count": 11,
   "id": "9451285d-9a10-49a8-8a82-b39ff83e5fdd",
   "metadata": {},
   "outputs": [
    {
     "name": "stdout",
     "output_type": "stream",
     "text": [
      "Columns match after transformations.\n"
     ]
    }
   ],
   "source": [
    "differences = original_facts.exceptAll(transformed_facts)\n",
    "diff_count = differences.count()\n",
    "if diff_count > 0:\n",
    "    print(\"Error: All Column Values dont match\")\n",
    "    differences.show()\n",
    "else:\n",
    "    print(\"Columns match after transformations.\")"
   ]
  }
 ],
 "metadata": {
  "kernelspec": {
   "display_name": "Python 3 (ipykernel)",
   "language": "python",
   "name": "python3"
  },
  "language_info": {
   "codemirror_mode": {
    "name": "ipython",
    "version": 3
   },
   "file_extension": ".py",
   "mimetype": "text/x-python",
   "name": "python",
   "nbconvert_exporter": "python",
   "pygments_lexer": "ipython3",
   "version": "3.11.6"
  }
 },
 "nbformat": 4,
 "nbformat_minor": 5
}
