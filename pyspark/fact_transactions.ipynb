{
 "cells": [
  {
   "cell_type": "code",
   "execution_count": 28,
   "id": "d722e11b-e355-4e71-a19f-9478295f0a85",
   "metadata": {},
   "outputs": [],
   "source": [
    "from pyspark.sql import SparkSession\n",
    "from pyspark.sql.functions import (col, broadcast, rank, row_number)\n",
    "from pyspark.sql.window import Window"
   ]
  },
  {
   "cell_type": "code",
   "execution_count": 3,
   "id": "2006b766-b4cf-44d8-b035-2a7d74e81204",
   "metadata": {},
   "outputs": [],
   "source": [
    "spark = SparkSession.builder.appName(\"fact_mapping\").getOrCreate()"
   ]
  },
  {
   "cell_type": "code",
   "execution_count": 4,
   "id": "55fcd351-790a-4afd-b7a5-e8d0344cabd3",
   "metadata": {},
   "outputs": [],
   "source": [
    "df_fact = spark.read.option(\"header\",True).option(\"inferSchema\",True).csv(\"source/Fact_Transactions.csv\")"
   ]
  },
  {
   "cell_type": "code",
   "execution_count": 4,
   "id": "0f539f5c-1a85-4eb6-b5aa-192793a6ee3b",
   "metadata": {},
   "outputs": [
    {
     "name": "stdout",
     "output_type": "stream",
     "text": [
      "+-------------+---------------+-----------+------------+------+\n",
      "|TransactionID|ProductCategory|StoreRegion|CustomerType|Amount|\n",
      "+-------------+---------------+-----------+------------+------+\n",
      "|            1|         Laptop|      North|      Retail|  1200|\n",
      "|            2|         Mobile|      South|   Wholesale|   800|\n",
      "|            3|         Tablet|       East|      Retail|   300|\n",
      "|            4|         Laptop|       West|      Retail|  1500|\n",
      "|            5|         Tablet|      North|   Wholesale|   400|\n",
      "|            6|         Mobile|       East|      Retail|   900|\n",
      "|            7|         Mobile|      South|      Retail|   850|\n",
      "|            8|         Laptop|       West|   Wholesale|  1700|\n",
      "|            9|         Tablet|       East|      Retail|   350|\n",
      "|           10|         Mobile|      North|      Retail|   950|\n",
      "+-------------+---------------+-----------+------------+------+\n",
      "\n"
     ]
    }
   ],
   "source": [
    "df_fact.show()"
   ]
  },
  {
   "cell_type": "markdown",
   "id": "4fc1edd8-35f8-4c67-8bc2-07c46d108849",
   "metadata": {},
   "source": [
    "#### Replace Dimension Columns With respective dimension keys"
   ]
  },
  {
   "cell_type": "code",
   "execution_count": 5,
   "id": "a44810dc-f2b6-4e5f-9214-4d3640928f52",
   "metadata": {},
   "outputs": [],
   "source": [
    "dim_product = spark.read.parquet(\"warehouse/dim_product_category\")"
   ]
  },
  {
   "cell_type": "code",
   "execution_count": 6,
   "id": "5e8bdfc6-2bfb-4f4c-b2f3-cf27da724d36",
   "metadata": {},
   "outputs": [],
   "source": [
    "df_fact2 = df_fact.join(dim_product, \\\n",
    "    df_fact.ProductCategory == dim_product.ProductCategory, \\\n",
    "    \"left\"). \\\n",
    "    select([df_fact[\"*\"], dim_product.ProductCategoryKey])"
   ]
  },
  {
   "cell_type": "code",
   "execution_count": 7,
   "id": "97bb41e9-a9f2-44fe-bf75-1a6f1cd01c9c",
   "metadata": {},
   "outputs": [],
   "source": [
    "dim_store_region = spark.read.parquet(\"warehouse/dim_store_region\")"
   ]
  },
  {
   "cell_type": "code",
   "execution_count": 8,
   "id": "94f9086b-8351-4c54-9176-55f07e36c703",
   "metadata": {},
   "outputs": [],
   "source": [
    "df_fact3 = df_fact2.join(dim_store_region, \\\n",
    "    df_fact2.StoreRegion == dim_store_region.StoreRegion, \\\n",
    "    \"left\"). \\\n",
    "    select([df_fact2[\"*\"], dim_store_region.StoreRegionKey])"
   ]
  },
  {
   "cell_type": "code",
   "execution_count": 9,
   "id": "366884a0-7161-4515-8452-8d81f49a8591",
   "metadata": {},
   "outputs": [],
   "source": [
    "dim_customer_type = spark.read.parquet(\"warehouse/dim_customer_type\")"
   ]
  },
  {
   "cell_type": "code",
   "execution_count": 10,
   "id": "caf8b5cd-19a8-4f92-b142-7330ede5b17c",
   "metadata": {},
   "outputs": [],
   "source": [
    "df_fact4 = df_fact3.join(broadcast(dim_customer_type), \\\n",
    "    df_fact3.CustomerType == dim_customer_type.CustomerType, \\\n",
    "    \"left\"). \\\n",
    "    select([df_fact3[\"*\"], dim_customer_type.CustomerTypeKey])"
   ]
  },
  {
   "cell_type": "markdown",
   "id": "d45877af-41fb-4ef3-9090-74529dc5e3b5",
   "metadata": {},
   "source": [
    "#### Introduce Custom Mapping Key for the matching mapping"
   ]
  },
  {
   "cell_type": "code",
   "execution_count": 11,
   "id": "79f9f69d-3608-4628-b82a-47c8c3559887",
   "metadata": {},
   "outputs": [
    {
     "name": "stdout",
     "output_type": "stream",
     "text": [
      "+---------------+-----------+------------+-----------------+--------+----------------+\n",
      "|ProductCategory|StoreRegion|CustomerType|     MappingLabel|Priority|CustomMappingKey|\n",
      "+---------------+-----------+------------+-----------------+--------+----------------+\n",
      "|         Tablet|       East|      Retail|        Side Head|       1|               0|\n",
      "|         Laptop|       West|      Retail|      Premium Box|       1|               1|\n",
      "|         Mobile|      North|   Wholesale|North Dist Mobile|       1|               2|\n",
      "|         Tablet|      South|      Retail|      Tablet Push|       1|               3|\n",
      "|         Laptop|      North|   Wholesale|    Laptop Supply|       1|               4|\n",
      "|         Laptop|        ANY|      Retail|   Regular Laptop|       2|               5|\n",
      "|            ANY|        ANY|   Wholesale| Normal Wholesale|       3|               6|\n",
      "|            ANY|        ANY|      Retail|    Normal Retail|       3|               7|\n",
      "|            N/A|        N/A|         N/A|              N/A|    9999|              -1|\n",
      "+---------------+-----------+------------+-----------------+--------+----------------+\n",
      "\n"
     ]
    }
   ],
   "source": [
    "dim_custom_mapping = spark.read.parquet(\"warehouse/dim_custom_mapping\")\n",
    "dim_custom_mapping.show()"
   ]
  },
  {
   "cell_type": "code",
   "execution_count": 35,
   "id": "e61c5344-1cc0-4321-a4ae-6739d3af6b2c",
   "metadata": {},
   "outputs": [],
   "source": [
    "window_spec = Window.partitionBy(df_fact4[\"ProductCategory\"], df_fact4[\"StoreRegion\"], df_fact4[\"StoreRegion\"], df_fact4[\"Amount\"]).orderBy(col(\"Priority\"))\n",
    "df_fact5 = df_fact4.join(dim_custom_mapping, \\\n",
    "        ((df_fact4.ProductCategory == dim_custom_mapping.ProductCategory) | (dim_custom_mapping.ProductCategory == \"ANY\")) & \\\n",
    "        ((df_fact4.StoreRegion == dim_custom_mapping.StoreRegion) | (dim_custom_mapping.StoreRegion == \"ANY\")) & \\\n",
    "        ((df_fact4.CustomerType == dim_custom_mapping.CustomerType) | (dim_custom_mapping.CustomerType == \"ANY\")), \\\n",
    "    \"left\") \\\n",
    "    .withColumn(\"rn\", row_number().over(window_spec)) \\\n",
    "    .select([df_fact4['*'], dim_custom_mapping.CustomMappingKey, \"rn\"])"
   ]
  },
  {
   "cell_type": "code",
   "execution_count": 36,
   "id": "cb148257-6658-4fe1-82a3-0e73848ecfa6",
   "metadata": {},
   "outputs": [
    {
     "name": "stdout",
     "output_type": "stream",
     "text": [
      "+-------------+---------------+-----------+------------+------+------------------+--------------+---------------+----------------+---+\n",
      "|TransactionID|ProductCategory|StoreRegion|CustomerType|Amount|ProductCategoryKey|StoreRegionKey|CustomerTypeKey|CustomMappingKey| rn|\n",
      "+-------------+---------------+-----------+------------+------+------------------+--------------+---------------+----------------+---+\n",
      "|            1|         Laptop|      North|      Retail|  1200|                 0|             0|              0|               5|  1|\n",
      "|            1|         Laptop|      North|      Retail|  1200|                 0|             0|              0|               7|  2|\n",
      "|            4|         Laptop|       West|      Retail|  1500|                 0|             3|              0|               1|  1|\n",
      "|            4|         Laptop|       West|      Retail|  1500|                 0|             3|              0|               5|  2|\n",
      "|            4|         Laptop|       West|      Retail|  1500|                 0|             3|              0|               7|  3|\n",
      "|            8|         Laptop|       West|   Wholesale|  1700|                 0|             3|              1|               6|  1|\n",
      "|            6|         Mobile|       East|      Retail|   900|                 1|             2|              0|               7|  1|\n",
      "|           10|         Mobile|      North|      Retail|   950|                 1|             0|              0|               7|  1|\n",
      "|            2|         Mobile|      South|   Wholesale|   800|                 1|             1|              1|               6|  1|\n",
      "|            7|         Mobile|      South|      Retail|   850|                 1|             1|              0|               7|  1|\n",
      "|            3|         Tablet|       East|      Retail|   300|                 2|             2|              0|               0|  1|\n",
      "|            3|         Tablet|       East|      Retail|   300|                 2|             2|              0|               7|  2|\n",
      "|            9|         Tablet|       East|      Retail|   350|                 2|             2|              0|               0|  1|\n",
      "|            9|         Tablet|       East|      Retail|   350|                 2|             2|              0|               7|  2|\n",
      "|            5|         Tablet|      North|   Wholesale|   400|                 2|             0|              1|               6|  1|\n",
      "+-------------+---------------+-----------+------------+------+------------------+--------------+---------------+----------------+---+\n",
      "\n"
     ]
    }
   ],
   "source": [
    "df_fact5.show()"
   ]
  },
  {
   "cell_type": "code",
   "execution_count": 39,
   "id": "c2b3fd69-cff7-4a43-a9e7-00ce40a18e1d",
   "metadata": {},
   "outputs": [],
   "source": [
    "df_fact6 = df_fact5.filter(col(\"rn\") == 1).orderBy(col(\"TransactionID\"))"
   ]
  },
  {
   "cell_type": "code",
   "execution_count": 40,
   "id": "7337a54f-ad59-4ab2-9078-ee2369772e56",
   "metadata": {},
   "outputs": [
    {
     "name": "stdout",
     "output_type": "stream",
     "text": [
      "+-------------+---------------+-----------+------------+------+------------------+--------------+---------------+----------------+---+\n",
      "|TransactionID|ProductCategory|StoreRegion|CustomerType|Amount|ProductCategoryKey|StoreRegionKey|CustomerTypeKey|CustomMappingKey| rn|\n",
      "+-------------+---------------+-----------+------------+------+------------------+--------------+---------------+----------------+---+\n",
      "|            1|         Laptop|      North|      Retail|  1200|                 0|             0|              0|               5|  1|\n",
      "|            2|         Mobile|      South|   Wholesale|   800|                 1|             1|              1|               6|  1|\n",
      "|            3|         Tablet|       East|      Retail|   300|                 2|             2|              0|               0|  1|\n",
      "|            4|         Laptop|       West|      Retail|  1500|                 0|             3|              0|               1|  1|\n",
      "|            5|         Tablet|      North|   Wholesale|   400|                 2|             0|              1|               6|  1|\n",
      "|            6|         Mobile|       East|      Retail|   900|                 1|             2|              0|               7|  1|\n",
      "|            7|         Mobile|      South|      Retail|   850|                 1|             1|              0|               7|  1|\n",
      "|            8|         Laptop|       West|   Wholesale|  1700|                 0|             3|              1|               6|  1|\n",
      "|            9|         Tablet|       East|      Retail|   350|                 2|             2|              0|               0|  1|\n",
      "|           10|         Mobile|      North|      Retail|   950|                 1|             0|              0|               7|  1|\n",
      "+-------------+---------------+-----------+------------+------+------------------+--------------+---------------+----------------+---+\n",
      "\n"
     ]
    }
   ],
   "source": [
    "df_fact6.show()"
   ]
  },
  {
   "cell_type": "markdown",
   "id": "f79c0416-52fc-459b-aca8-8c88467dadb4",
   "metadata": {},
   "source": [
    "#### Final Cleanup "
   ]
  },
  {
   "cell_type": "code",
   "execution_count": 43,
   "id": "734dda44-a698-495b-a428-4e573687ee50",
   "metadata": {},
   "outputs": [],
   "source": [
    "df_fact7 = df_fact6.drop(col('ProductCategory'), col('StoreRegion'), col('CustomerType'), col('rn'))"
   ]
  },
  {
   "cell_type": "code",
   "execution_count": 44,
   "id": "4b1cbd15-fd05-473a-99b2-dff6ed2c6b88",
   "metadata": {},
   "outputs": [
    {
     "name": "stdout",
     "output_type": "stream",
     "text": [
      "+-------------+------+------------------+--------------+---------------+----------------+\n",
      "|TransactionID|Amount|ProductCategoryKey|StoreRegionKey|CustomerTypeKey|CustomMappingKey|\n",
      "+-------------+------+------------------+--------------+---------------+----------------+\n",
      "|            1|  1200|                 0|             0|              0|               5|\n",
      "|            2|   800|                 1|             1|              1|               6|\n",
      "|            3|   300|                 2|             2|              0|               0|\n",
      "|            4|  1500|                 0|             3|              0|               1|\n",
      "|            5|   400|                 2|             0|              1|               6|\n",
      "|            6|   900|                 1|             2|              0|               7|\n",
      "|            7|   850|                 1|             1|              0|               7|\n",
      "|            8|  1700|                 0|             3|              1|               6|\n",
      "|            9|   350|                 2|             2|              0|               0|\n",
      "|           10|   950|                 1|             0|              0|               7|\n",
      "+-------------+------+------------------+--------------+---------------+----------------+\n",
      "\n"
     ]
    }
   ],
   "source": [
    "df_fact7.show()"
   ]
  },
  {
   "cell_type": "code",
   "execution_count": 45,
   "id": "6326a607-21ca-490a-84c6-b0d3e0605fd6",
   "metadata": {},
   "outputs": [],
   "source": [
    "df_fact_final = df_fact7.fillna({\"CustomMappingKey\":-1})"
   ]
  },
  {
   "cell_type": "code",
   "execution_count": 46,
   "id": "e159fd65-ad95-47cf-a41a-4db5a9cab324",
   "metadata": {},
   "outputs": [
    {
     "name": "stdout",
     "output_type": "stream",
     "text": [
      "+-------------+------+------------------+--------------+---------------+----------------+\n",
      "|TransactionID|Amount|ProductCategoryKey|StoreRegionKey|CustomerTypeKey|CustomMappingKey|\n",
      "+-------------+------+------------------+--------------+---------------+----------------+\n",
      "|            1|  1200|                 0|             0|              0|               5|\n",
      "|            2|   800|                 1|             1|              1|               6|\n",
      "|            3|   300|                 2|             2|              0|               0|\n",
      "|            4|  1500|                 0|             3|              0|               1|\n",
      "|            5|   400|                 2|             0|              1|               6|\n",
      "|            6|   900|                 1|             2|              0|               7|\n",
      "|            7|   850|                 1|             1|              0|               7|\n",
      "|            8|  1700|                 0|             3|              1|               6|\n",
      "|            9|   350|                 2|             2|              0|               0|\n",
      "|           10|   950|                 1|             0|              0|               7|\n",
      "+-------------+------+------------------+--------------+---------------+----------------+\n",
      "\n"
     ]
    }
   ],
   "source": [
    "df_fact_final.show()"
   ]
  },
  {
   "cell_type": "code",
   "execution_count": 47,
   "id": "f04effd6-ce53-48ca-858d-f3c37f2b90d4",
   "metadata": {},
   "outputs": [],
   "source": [
    "df_fact_final.write.mode(\"overwrite\").parquet(\"warehouse/fact_transactions\")"
   ]
  },
  {
   "cell_type": "code",
   "execution_count": 48,
   "id": "5a1a1247-5f33-4b87-9f43-1d2886a14f55",
   "metadata": {},
   "outputs": [
    {
     "name": "stdout",
     "output_type": "stream",
     "text": [
      "+-------------+------+------------------+--------------+---------------+----------------+\n",
      "|TransactionID|Amount|ProductCategoryKey|StoreRegionKey|CustomerTypeKey|CustomMappingKey|\n",
      "+-------------+------+------------------+--------------+---------------+----------------+\n",
      "|            1|  1200|                 0|             0|              0|               5|\n",
      "|            2|   800|                 1|             1|              1|               6|\n",
      "|            3|   300|                 2|             2|              0|               0|\n",
      "|            4|  1500|                 0|             3|              0|               1|\n",
      "|            5|   400|                 2|             0|              1|               6|\n",
      "|            6|   900|                 1|             2|              0|               7|\n",
      "|            7|   850|                 1|             1|              0|               7|\n",
      "|            8|  1700|                 0|             3|              1|               6|\n",
      "|            9|   350|                 2|             2|              0|               0|\n",
      "|           10|   950|                 1|             0|              0|               7|\n",
      "+-------------+------+------------------+--------------+---------------+----------------+\n",
      "\n"
     ]
    }
   ],
   "source": [
    "df_transactions = spark.read.parquet(\"warehouse/fact_transactions\")\n",
    "df_transactions.show()"
   ]
  },
  {
   "cell_type": "code",
   "execution_count": null,
   "id": "289b3edd-657d-4c2d-ad3f-62ae93ff7b7f",
   "metadata": {},
   "outputs": [],
   "source": [
    "df_transactions.toPandas().to_csv(\"output_csv/fact_transactions.csv\", index=False)"
   ]
  },
  {
   "cell_type": "code",
   "execution_count": null,
   "id": "3e043c6a-715f-423e-86f2-1f6193b63471",
   "metadata": {},
   "outputs": [],
   "source": []
  }
 ],
 "metadata": {
  "kernelspec": {
   "display_name": "Python 3 (ipykernel)",
   "language": "python",
   "name": "python3"
  },
  "language_info": {
   "codemirror_mode": {
    "name": "ipython",
    "version": 3
   },
   "file_extension": ".py",
   "mimetype": "text/x-python",
   "name": "python",
   "nbconvert_exporter": "python",
   "pygments_lexer": "ipython3",
   "version": "3.11.6"
  }
 },
 "nbformat": 4,
 "nbformat_minor": 5
}
