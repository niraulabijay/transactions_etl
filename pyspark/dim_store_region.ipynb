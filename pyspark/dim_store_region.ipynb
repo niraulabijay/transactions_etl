{
 "cells": [
  {
   "cell_type": "markdown",
   "id": "7f42f59d-1399-4a38-b23d-4d8cf8ecf60c",
   "metadata": {},
   "source": [
    "#### Create ProductCategory Dimension"
   ]
  },
  {
   "cell_type": "code",
   "execution_count": 1,
   "id": "478c4160-5cc8-473d-8610-1082b846357f",
   "metadata": {},
   "outputs": [],
   "source": [
    "from pyspark.sql import SparkSession\n",
    "from pyspark.sql.functions import (col, monotonically_increasing_id)"
   ]
  },
  {
   "cell_type": "code",
   "execution_count": 2,
   "id": "88d1939d-6343-4d6b-a9a1-86724e38bb02",
   "metadata": {},
   "outputs": [],
   "source": [
    "spark = SparkSession.builder.appName(\"fact_mapping\").getOrCreate()"
   ]
  },
  {
   "cell_type": "code",
   "execution_count": 3,
   "id": "081d82e2-8aed-48b3-be97-4c14b4a61895",
   "metadata": {},
   "outputs": [
    {
     "name": "stdout",
     "output_type": "stream",
     "text": [
      "+-----------+--------+---------+\n",
      "|StoreRegion|RegionID|Territory|\n",
      "+-----------+--------+---------+\n",
      "|      North|       1|        A|\n",
      "|      South|       2|        B|\n",
      "|       East|       3|        C|\n",
      "|       West|       4|        D|\n",
      "+-----------+--------+---------+\n",
      "\n"
     ]
    }
   ],
   "source": [
    "df_store_region = spark.read.option(\"header\",True).option(\"inferSchema\",True).csv(\"source/Dim_StoreRegion.csv\")\n",
    "df_store_region.show()"
   ]
  },
  {
   "cell_type": "code",
   "execution_count": 4,
   "id": "be507795-2b37-498a-94d2-7568e286648f",
   "metadata": {},
   "outputs": [],
   "source": [
    "df_store_region2 = df_store_region.withColumn(\"StoreRegionKey\", monotonically_increasing_id()).drop(\"RegionID\")"
   ]
  },
  {
   "cell_type": "code",
   "execution_count": 5,
   "id": "5db77f18-f3bb-46c0-8a1a-d96359840f83",
   "metadata": {},
   "outputs": [],
   "source": [
    "df_store_region_na = spark.createDataFrame([\n",
    "    (\"N/A\",\"N/A\",-1)\n",
    "],[\"StoreRegion\",\"Territory\",\"StoreRegionKey\"])"
   ]
  },
  {
   "cell_type": "code",
   "execution_count": 6,
   "id": "72c5a2eb-f863-4d0c-952a-ca1f497197b8",
   "metadata": {},
   "outputs": [],
   "source": [
    "dim_store_region = df_store_region2.unionAll(df_store_region_na)"
   ]
  },
  {
   "cell_type": "code",
   "execution_count": 7,
   "id": "cc9cdabf-5085-4849-875c-97e78b8d3bd2",
   "metadata": {},
   "outputs": [],
   "source": [
    "dim_store_region.write.mode(\"overwrite\").parquet(\"warehouse/dim_store_region\")"
   ]
  },
  {
   "cell_type": "code",
   "execution_count": 8,
   "id": "52632347-62b9-4b37-95e3-0d8351605433",
   "metadata": {},
   "outputs": [],
   "source": [
    "df_dim_store_region = spark.read.parquet(\"warehouse/dim_store_region\")"
   ]
  },
  {
   "cell_type": "code",
   "execution_count": 9,
   "id": "f848a44b-5997-4a37-8017-e37154130f62",
   "metadata": {},
   "outputs": [
    {
     "name": "stdout",
     "output_type": "stream",
     "text": [
      "+-----------+---------+--------------+\n",
      "|StoreRegion|Territory|StoreRegionKey|\n",
      "+-----------+---------+--------------+\n",
      "|      North|        A|             0|\n",
      "|      South|        B|             1|\n",
      "|       East|        C|             2|\n",
      "|       West|        D|             3|\n",
      "|        N/A|      N/A|            -1|\n",
      "+-----------+---------+--------------+\n",
      "\n"
     ]
    }
   ],
   "source": [
    "df_dim_store_region.show()"
   ]
  },
  {
   "cell_type": "markdown",
   "id": "43b33c71-e664-40b6-beba-6d2cc3496799",
   "metadata": {},
   "source": [
    "#### Save to CSV"
   ]
  },
  {
   "cell_type": "code",
   "execution_count": 10,
   "id": "5585f684-b6d2-4d7a-8362-17b1ed2a7fd6",
   "metadata": {},
   "outputs": [],
   "source": [
    "dim_store_region.toPandas().to_csv(\"output_csv/dim_store_region.csv\", index=False)"
   ]
  },
  {
   "cell_type": "code",
   "execution_count": null,
   "id": "11254c73-7cc0-491e-b8f3-b2c9ad2418b6",
   "metadata": {},
   "outputs": [],
   "source": []
  }
 ],
 "metadata": {
  "kernelspec": {
   "display_name": "Python 3 (ipykernel)",
   "language": "python",
   "name": "python3"
  },
  "language_info": {
   "codemirror_mode": {
    "name": "ipython",
    "version": 3
   },
   "file_extension": ".py",
   "mimetype": "text/x-python",
   "name": "python",
   "nbconvert_exporter": "python",
   "pygments_lexer": "ipython3",
   "version": "3.11.6"
  }
 },
 "nbformat": 4,
 "nbformat_minor": 5
}
