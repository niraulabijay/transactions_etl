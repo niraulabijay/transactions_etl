{
 "cells": [
  {
   "cell_type": "markdown",
   "id": "7f42f59d-1399-4a38-b23d-4d8cf8ecf60c",
   "metadata": {},
   "source": [
    "#### Create ProductCategory Dimension"
   ]
  },
  {
   "cell_type": "code",
   "execution_count": 1,
   "id": "478c4160-5cc8-473d-8610-1082b846357f",
   "metadata": {},
   "outputs": [],
   "source": [
    "from pyspark.sql import SparkSession\n",
    "from pyspark.sql.functions import (col, monotonically_increasing_id)"
   ]
  },
  {
   "cell_type": "code",
   "execution_count": 2,
   "id": "88d1939d-6343-4d6b-a9a1-86724e38bb02",
   "metadata": {},
   "outputs": [],
   "source": [
    "spark = SparkSession.builder.appName(\"fact_mapping\").getOrCreate()"
   ]
  },
  {
   "cell_type": "code",
   "execution_count": 3,
   "id": "081d82e2-8aed-48b3-be97-4c14b4a61895",
   "metadata": {},
   "outputs": [
    {
     "name": "stdout",
     "output_type": "stream",
     "text": [
      "+---------------+-----------------+-------------+\n",
      "|ProductCategory|ProductCategoryID|CategoryGroup|\n",
      "+---------------+-----------------+-------------+\n",
      "|         Laptop|              101|    Computing|\n",
      "|         Mobile|              102|  Electronics|\n",
      "|         Tablet|              103|    Computing|\n",
      "+---------------+-----------------+-------------+\n",
      "\n"
     ]
    }
   ],
   "source": [
    "df_category = spark.read.option(\"header\",True).option(\"inferSchema\",True).csv(\"source/Dim_ProductCategory.csv\")\n",
    "df_category.show()"
   ]
  },
  {
   "cell_type": "code",
   "execution_count": 4,
   "id": "be507795-2b37-498a-94d2-7568e286648f",
   "metadata": {},
   "outputs": [],
   "source": [
    "df_category2 = df_category.withColumn(\"ProductCategoryKey\", monotonically_increasing_id()).drop(\"ProductCategoryID\")"
   ]
  },
  {
   "cell_type": "code",
   "execution_count": 5,
   "id": "5db77f18-f3bb-46c0-8a1a-d96359840f83",
   "metadata": {},
   "outputs": [],
   "source": [
    "df_category_na = spark.createDataFrame([\n",
    "    (\"N/A\",\"N/A\",-1)\n",
    "],[\"ProductCategory\",\"CategoryGroup\",\"ProductCategoryKey\"])"
   ]
  },
  {
   "cell_type": "code",
   "execution_count": 6,
   "id": "72c5a2eb-f863-4d0c-952a-ca1f497197b8",
   "metadata": {},
   "outputs": [],
   "source": [
    "dim_product_category = df_category2.unionAll(df_category_na)"
   ]
  },
  {
   "cell_type": "code",
   "execution_count": 7,
   "id": "cc9cdabf-5085-4849-875c-97e78b8d3bd2",
   "metadata": {},
   "outputs": [],
   "source": [
    "dim_product_category.write.mode(\"overwrite\").parquet(\"warehouse/dim_product_category\")"
   ]
  },
  {
   "cell_type": "code",
   "execution_count": 8,
   "id": "52632347-62b9-4b37-95e3-0d8351605433",
   "metadata": {},
   "outputs": [],
   "source": [
    "df_dim_product_category = spark.read.parquet(\"warehouse/dim_product_category\")"
   ]
  },
  {
   "cell_type": "code",
   "execution_count": 9,
   "id": "f848a44b-5997-4a37-8017-e37154130f62",
   "metadata": {},
   "outputs": [
    {
     "name": "stdout",
     "output_type": "stream",
     "text": [
      "+---------------+-------------+------------------+\n",
      "|ProductCategory|CategoryGroup|ProductCategoryKey|\n",
      "+---------------+-------------+------------------+\n",
      "|         Laptop|    Computing|                 0|\n",
      "|         Mobile|  Electronics|                 1|\n",
      "|         Tablet|    Computing|                 2|\n",
      "|            N/A|          N/A|                -1|\n",
      "+---------------+-------------+------------------+\n",
      "\n"
     ]
    }
   ],
   "source": [
    "df_dim_product_category.show()"
   ]
  },
  {
   "cell_type": "markdown",
   "id": "d2a85e4b-575a-4455-b4e9-301803b9dde6",
   "metadata": {},
   "source": [
    "#### Additionally write final result to csv"
   ]
  },
  {
   "cell_type": "code",
   "execution_count": 10,
   "id": "4c363a5a-4679-4cb4-95cd-7a0685bb4b90",
   "metadata": {},
   "outputs": [],
   "source": [
    "df_dim_product_category.toPandas().to_csv(\"output_csv/dim_product_category.csv\", index=False)"
   ]
  }
 ],
 "metadata": {
  "kernelspec": {
   "display_name": "Python 3 (ipykernel)",
   "language": "python",
   "name": "python3"
  },
  "language_info": {
   "codemirror_mode": {
    "name": "ipython",
    "version": 3
   },
   "file_extension": ".py",
   "mimetype": "text/x-python",
   "name": "python",
   "nbconvert_exporter": "python",
   "pygments_lexer": "ipython3",
   "version": "3.11.6"
  }
 },
 "nbformat": 4,
 "nbformat_minor": 5
}
